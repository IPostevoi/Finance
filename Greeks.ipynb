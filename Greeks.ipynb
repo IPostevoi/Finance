{
 "cells": [
  {
   "cell_type": "code",
   "execution_count": 638,
   "metadata": {
    "collapsed": false
   },
   "outputs": [],
   "source": [
    "import math\n",
    "import scipy\n",
    "import numpy as np\n",
    "from numpy.fft import fft\n",
    "from scipy.integrate import quad\n",
    "import scipy.optimize\n",
    "from scipy import stats\n",
    "import matplotlib.pyplot as plt\n",
    "import matplotlib as mpl\n",
    "\n",
    "import pandas as pd\n",
    "# pd.set_option('display.mpl_style', 'default')\n",
    "# plt.style.use('ggplot')\n",
    "\n",
    "%matplotlib inline\n",
    "\n",
    "from mpl_toolkits.mplot3d import axes3d\n",
    "from matplotlib import cm\n",
    "\n",
    "mpl.rcParams.update({'font.size': 13})\n",
    "\n",
    "from scipy.stats import norm"
   ]
  },
  {
   "cell_type": "markdown",
   "metadata": {},
   "source": [
    "# Model Parametrs"
   ]
  },
  {
   "cell_type": "code",
   "execution_count": 639,
   "metadata": {
    "collapsed": true
   },
   "outputs": [],
   "source": [
    "S0 = 0.00001\n",
    "S1 = 200.\n",
    "K = 80.\n",
    "r = 0.05\n",
    "q = 0.08\n",
    "T = 1.\n",
    "sigma = 0.2"
   ]
  },
  {
   "cell_type": "code",
   "execution_count": 640,
   "metadata": {
    "collapsed": true
   },
   "outputs": [],
   "source": [
    "n = 500\n",
    "S = scipy.linspace(S0, S1, n)"
   ]
  },
  {
   "cell_type": "markdown",
   "metadata": {},
   "source": [
    "# Delta\n",
    "Это количество акций, которыми можно захеджировать опцион\n",
    "\n",
    "$d_{\\pm} = \\frac{ln(\\frac{S}{K}) + (r \\pm \\sigma^2/2)(T - t)}{\\sigma\\sqrt{T - t}}$"
   ]
  },
  {
   "cell_type": "code",
   "execution_count": 641,
   "metadata": {
    "collapsed": false
   },
   "outputs": [],
   "source": [
    "def d1(Sp, t):\n",
    "    return (np.log(Sp / K) + (r + sigma ** 2 / 2) * t) / (sigma * np.sqrt(t)) "
   ]
  },
  {
   "cell_type": "code",
   "execution_count": 642,
   "metadata": {
    "collapsed": true
   },
   "outputs": [],
   "source": [
    "def d1_div(Sp, t):\n",
    "    return (np.log(Sp / K) + (r - q + sigma ** 2 / 2) * t) / (sigma * np.sqrt(t)) "
   ]
  },
  {
   "cell_type": "code",
   "execution_count": 643,
   "metadata": {
    "collapsed": true
   },
   "outputs": [],
   "source": [
    "def d2(Sp, t):\n",
    "    return d1(Sp, t) - sigma * np.sqrt(t)"
   ]
  },
  {
   "cell_type": "code",
   "execution_count": 644,
   "metadata": {
    "collapsed": true
   },
   "outputs": [],
   "source": [
    "def d2_div(Sp, t):\n",
    "    return d1_div(Sp, t) - sigma * np.sqrt(t)"
   ]
  },
  {
   "cell_type": "code",
   "execution_count": 645,
   "metadata": {
    "collapsed": true
   },
   "outputs": [],
   "source": [
    "def f(x):\n",
    "    return norm.pdf(x)"
   ]
  },
  {
   "cell_type": "code",
   "execution_count": 646,
   "metadata": {
    "collapsed": true
   },
   "outputs": [],
   "source": [
    "def F(x):\n",
    "    return stats.norm.cdf(x)"
   ]
  },
  {
   "cell_type": "code",
   "execution_count": 647,
   "metadata": {
    "collapsed": true
   },
   "outputs": [],
   "source": [
    "def Z(T):\n",
    "    return np.e**(- r * T)"
   ]
  },
  {
   "cell_type": "markdown",
   "metadata": {},
   "source": [
    "# Блек-Шоулз"
   ]
  },
  {
   "cell_type": "code",
   "execution_count": null,
   "metadata": {
    "collapsed": false
   },
   "outputs": [],
   "source": [
    "def C_E(S, T):\n",
    "    return S * F(d1(S, T)) - K * F(d2(S, T)) * Z(T)\n",
    "\n",
    "\n",
    "def P_E(S, T):\n",
    "    return C_E(S, T) - (S - K * Z(T))\n",
    "\n",
    "\n",
    "def C_E_div(S, T):\n",
    "    return np.e**(- q * T) * S * F(d1_div(S, T)) - K * F(d2_div(S, T)) * Z(T) \n",
    "\n",
    "\n",
    "def P_E_div(S, T):\n",
    "    return C_E_div(S, T) - (np.e**(- q * T) * S - K * Z(T))\n",
    "\n",
    "def C_up(S, T):\n",
    "    return S\n",
    "\n",
    "def C_low(S, T):\n",
    "    return [s - K * Z(T) if s >= K * Z(T) else 0 for s in S]\n",
    "\n",
    "def P_up(S, T):\n",
    "    return K * Z(T)\n",
    "\n",
    "def P_low(S, T):\n",
    "    return [K * Z(T) - s if s <= K * Z(T) else 0 for s in S]"
   ]
  },
  {
   "cell_type": "code",
   "execution_count": null,
   "metadata": {
    "collapsed": false
   },
   "outputs": [],
   "source": [
    "fig=plt.figure(figsize=(13, 5), dpi= 80, facecolor='w', edgecolor='k')\n",
    "\n",
    "plt.subplot(121)\n",
    "plt.title(u'Call опцион')\n",
    "plt.plot(S, C_E(S, 1.0), color='red', linewidth=2.5, label='q = 0, r = 0.05')\n",
    "plt.plot(S, C_low(S, 1.0), color='black', linewidth=1.5, label='q = 0, r = 0.05, lower bound')\n",
    "\n",
    "q = 0.08\n",
    "plt.plot(S, C_E_div(S, 1.0), color='blue', linewidth=1.5, label='q = 0.08, r = 0.05')\n",
    "\n",
    "q = 0.03\n",
    "plt.plot(S, C_E_div(S, 1.0), color='green', linewidth=1.5, label='q = 0.03, r = 0.05')\n",
    "plt.legend()\n",
    "plt.axis([0, 130, 0, 60])\n",
    "plt.xlabel('S')\n",
    "plt.ylabel('C',rotation=0)\n",
    "plt.grid(True)\n",
    "\n",
    "plt.subplot(122)\n",
    "plt.title(u'Put опцион')\n",
    "plt.plot(S, P_E(S, 1.0), color='red', linewidth=2.5, label='q = 0, r = 0.05')\n",
    "plt.plot(S, P_low(S, 1.0), color='black', linewidth=1.5, label='q = 0, r = 0.05, lower bound')\n",
    "\n",
    "q = 0.08\n",
    "plt.plot(S, P_E_div(S, 1.0), color='blue', linewidth=1.5, label='q = 0.08, r = 0.05')\n",
    "\n",
    "q = 0.03\n",
    "plt.plot(S, P_E_div(S, 1.0), color='green', linewidth=1.5, label='q = 0.03, r = 0.05')\n",
    "\n",
    "# plt.axvline(x=61.4, ls='--', color='green', label='$x=61.4$')\n",
    "\n",
    "plt.legend()\n",
    "plt.axis([0, 130, 0, 100])\n",
    "plt.xlabel('S')\n",
    "plt.ylabel('C',rotation=0)\n",
    "plt.grid(True)\n",
    "plt.show()\n",
    "\n",
    "fig.savefig('Sholes.png', dpi=fig.dpi, transparent=True)"
   ]
  },
  {
   "cell_type": "code",
   "execution_count": null,
   "metadata": {
    "collapsed": false
   },
   "outputs": [],
   "source": [
    "def Delta_call(S, T):\n",
    "    return F(d1(S, T))\n",
    "\n",
    "\n",
    "def Delta_call_div(S, T):\n",
    "    return np.e**(- q * T) * F(d1_div(S, T))"
   ]
  },
  {
   "cell_type": "code",
   "execution_count": null,
   "metadata": {
    "collapsed": true
   },
   "outputs": [],
   "source": [
    "def Delta_put(S, T):\n",
    "    return Delta_call(S, T) - 1\n",
    "\n",
    "\n",
    "def Delta_put_div(S, T):\n",
    "    return Delta_call_div(S, T) - np.e**( - q * T)"
   ]
  },
  {
   "cell_type": "code",
   "execution_count": null,
   "metadata": {
    "collapsed": false
   },
   "outputs": [],
   "source": [
    "# n=500j\n",
    "# fig = plt.figure()\n",
    "# ax = fig.gca(projection='3d')\n",
    "# X, Y = np.mgrid[S0:S1:n, 0.0001: 100: n]\n",
    "# Z = Delta_call(X, Y)\n",
    "# ax.plot_surface(X, Y, Z, cmap=cm.RdYlBu, lw=1, rstride=1, cstride=1, alpha=0.75)\n",
    "# # ax.contour(X, Y, Z, 10, lw=3, cmap=\"autumn_r\", linestyles=\"solid\", offset=-1)\n",
    "# # ax.contour(X, Y, Z, 10, lw=3, colors=\"k\", linestyles=\"solid\")\n",
    "# plt.show()"
   ]
  },
  {
   "cell_type": "code",
   "execution_count": null,
   "metadata": {
    "collapsed": false,
    "scrolled": false
   },
   "outputs": [],
   "source": [
    "fig=plt.figure(figsize=(13, 5), dpi= 80, facecolor='w', edgecolor='k')\n",
    "\n",
    "q = 0.08\n",
    "plt.subplot(121)\n",
    "plt.plot(S, Delta_call(S, 0.8), color='red', linewidth=2, label='q = 0, r = 0.05')\n",
    "plt.plot(S, Delta_call_div(S, 0.8), color='blue', linewidth=2, label='q = 0.08, r = 0.05')\n",
    "plt.title(u'Call опцион')\n",
    "plt.legend()\n",
    "plt.xlabel('Spot')\n",
    "plt.ylabel('Delta')\n",
    "plt.grid(True)\n",
    "\n",
    "plt.subplot(122)\n",
    "plt.plot(S, Delta_put(S, 0.8), color='red', linewidth=2, label='q = 0, r = 0.05')\n",
    "plt.plot(S, Delta_put_div(S, 0.8), color='blue', linewidth=2, label='q = 0.08, r = 0.05')\n",
    "plt.axvline(x=61.4, ls='--', color='green', label='$x=61.4$')\n",
    "plt.title(u'Put опцион')\n",
    "plt.legend()\n",
    "plt.xlabel('Spot')\n",
    "plt.ylabel('Delta')\n",
    "plt.grid(True)\n",
    "\n",
    "# plt.subplot(223)\n",
    "# plt.plot(S, Delta_call_div(S, 0.8))\n",
    "# plt.plot(S, Delta_call_div(S, 0.5))\n",
    "# plt.plot(S, Delta_call_div(S, 0.2))\n",
    "# plt.title('Call option dividends')\n",
    "# plt.legend(['T-t=0.8y', 'T-t=0.5y', 'T-t=0.2y'])\n",
    "# plt.xlabel('Spot')\n",
    "# plt.ylabel('Delta')\n",
    "# plt.grid(True)\n",
    "\n",
    "# plt.subplot(224)\n",
    "# plt.plot(S, Delta_put_div(S, 0.8))\n",
    "# plt.plot(S, Delta_put_div(S, 0.5))\n",
    "# plt.plot(S, Delta_put_div(S, 0.2))\n",
    "# plt.title('Put option dividends')\n",
    "# plt.legend(['T-t=0.8y', 'T-t=0.5y', 'T-t=0.2y'])\n",
    "# plt.xlabel('Spot')\n",
    "# plt.ylabel('Delta')\n",
    "# plt.grid(True)\n",
    "\n",
    "plt.show()\n",
    "fig.savefig('Delta.png', dpi=fig.dpi, transparent=True)"
   ]
  },
  {
   "cell_type": "markdown",
   "metadata": {},
   "source": [
    "10: 48.9\n",
    "\n",
    "8: 49.6\n",
    "\n",
    "2: 56.4\n",
    "\n",
    "0.8: 61.4\n",
    "\n",
    "0.4: 64.9"
   ]
  },
  {
   "cell_type": "code",
   "execution_count": null,
   "metadata": {
    "collapsed": false
   },
   "outputs": [],
   "source": [
    "Delta_put(80, 0.8) - Delta_put_div(80, 0.8)"
   ]
  },
  {
   "cell_type": "code",
   "execution_count": null,
   "metadata": {
    "collapsed": false
   },
   "outputs": [],
   "source": [
    "np.e ** (-0.08 * 0.8) * 80"
   ]
  },
  {
   "cell_type": "code",
   "execution_count": null,
   "metadata": {
    "collapsed": true
   },
   "outputs": [],
   "source": [
    "def Stock(S_0, T, Z):\n",
    "    return S_0 * np.e ** ((r - sigma ** 2 / 2) * T + sigma * T ** 0.5 * Z)\n",
    "\n",
    "\n",
    "def Stock_q(S_0, T, Z):\n",
    "    return S_0 * np.e ** ((r - q - sigma ** 2 / 2) * T + sigma * T ** 0.5 * Z)"
   ]
  },
  {
   "cell_type": "code",
   "execution_count": null,
   "metadata": {
    "collapsed": false,
    "scrolled": true
   },
   "outputs": [],
   "source": [
    "sigma = 0.2\n",
    "Z = np.random.normal(0, 1, 10000)\n",
    "q = 0.08\n",
    "# plt.hist(Stock_q(61.4, 0.8, Z),bins=50)\n",
    "plt.hist(Stock(61.4, 0.8, Z), bins=50, color='red')\n",
    "plt.hist(Stock_q(61.4, 0.8, Z),bins=50)\n",
    "plt.axvline(x=61.4, ls='--', color='black', label='$x=61.4$')\n",
    "plt.show()"
   ]
  },
  {
   "cell_type": "code",
   "execution_count": null,
   "metadata": {
    "collapsed": true
   },
   "outputs": [],
   "source": []
  },
  {
   "cell_type": "code",
   "execution_count": null,
   "metadata": {
    "collapsed": false
   },
   "outputs": [],
   "source": [
    "print Delta_put(61.4, 0.008)\n",
    "print Delta_put_div(80, 0.008)"
   ]
  },
  {
   "cell_type": "code",
   "execution_count": null,
   "metadata": {
    "collapsed": false,
    "scrolled": true
   },
   "outputs": [],
   "source": [
    "(80 - 80 * np.e ** ( - 0.05 * 0.8)) * np.e ** (r * 0.8)"
   ]
  },
  {
   "cell_type": "code",
   "execution_count": null,
   "metadata": {
    "collapsed": false
   },
   "outputs": [],
   "source": [
    "(80 - 80 * np.e ** ( - 0.05 * 0.8))"
   ]
  },
  {
   "cell_type": "markdown",
   "metadata": {},
   "source": [
    "Узнаем S пересечения дельт путов"
   ]
  },
  {
   "cell_type": "code",
   "execution_count": null,
   "metadata": {
    "collapsed": false
   },
   "outputs": [],
   "source": [
    "q = 0.08\n",
    "def func(S):\n",
    "    return Delta_put(S, 0.8) - Delta_put_div(S, 0.8)\n",
    "\n",
    "inter = scipy.optimize.fsolve(func, 70)\n",
    "inter"
   ]
  },
  {
   "cell_type": "code",
   "execution_count": null,
   "metadata": {
    "collapsed": true
   },
   "outputs": [],
   "source": [
    "K = 80.\n",
    "r = 0.05\n",
    "q = 0.04\n",
    "T = 1.\n",
    "sigma = 0.2"
   ]
  },
  {
   "cell_type": "code",
   "execution_count": null,
   "metadata": {
    "collapsed": true
   },
   "outputs": [],
   "source": [
    "n = 500.\n",
    "ttm = scipy.linspace(0.0001, 100., n)"
   ]
  },
  {
   "cell_type": "code",
   "execution_count": null,
   "metadata": {
    "collapsed": false,
    "scrolled": false
   },
   "outputs": [],
   "source": [
    "fig=plt.figure(figsize=(13, 5), dpi= 80, facecolor='w', edgecolor='k')\n",
    "\n",
    "plt.subplot(121)\n",
    "plt.plot(ttm, Delta_call(75, ttm))\n",
    "plt.plot(ttm, Delta_call(80, ttm))\n",
    "plt.plot(ttm, Delta_call(85, ttm))\n",
    "plt.title(u'Call опцион')\n",
    "plt.legend(['out of-the-money', 'at-the-money', 'in-the-money'])\n",
    "plt.axis([0, 35, 0, 1.])\n",
    "plt.xlabel('time-to-maturity, years')\n",
    "plt.ylabel('Delta')\n",
    "plt.grid(True)\n",
    "\n",
    "# plt.subplot(122)\n",
    "# plt.plot(ttm, Delta_put(75, ttm))\n",
    "# plt.plot(ttm, Delta_put(80, ttm))\n",
    "# plt.plot(ttm, Delta_put(85, ttm))\n",
    "# plt.title('Put option')\n",
    "# plt.legend(['out of-the-money', 'at-the-money', 'in-the-money'])\n",
    "# plt.axis([0, 35, -1, 0])\n",
    "# plt.xlabel('time-to-maturity')\n",
    "# plt.ylabel('Delta')\n",
    "# plt.grid(True)\n",
    "\n",
    "plt.subplot(122)\n",
    "plt.plot(ttm, Delta_call_div(75, ttm))\n",
    "plt.plot(ttm, Delta_call_div(80, ttm))\n",
    "plt.plot(ttm, Delta_call_div(85, ttm))\n",
    "plt.plot(ttm, np.e ** (- q * ttm))\n",
    "plt.title(u'Call опцион с дивидендами')\n",
    "plt.legend(['out of-the-money', 'at-the-money', 'in-the-money', '$V_k$'])\n",
    "plt.axis([0, 35, 0, 1])\n",
    "plt.xlabel('time-to-maturity, years')\n",
    "plt.ylabel('Delta')\n",
    "plt.grid(True)\n",
    "\n",
    "# plt.subplot(224)\n",
    "# plt.plot(ttm, Delta_put_div(75, ttm))\n",
    "# plt.plot(ttm, Delta_put_div(80, ttm))\n",
    "# plt.plot(ttm, Delta_put_div(85, ttm))\n",
    "# plt.title('Put option dividends')\n",
    "# plt.legend(['out of-the-money', 'at-the-money', 'in-the-money'])\n",
    "# plt.axis([0, 35, -1, 0])\n",
    "# plt.xlabel('time-to-maturity')\n",
    "# plt.ylabel('Delta')\n",
    "plt.grid(True)\n",
    "\n",
    "plt.show()\n",
    "\n",
    "fig.savefig('Delta_ttm.png', dpi=fig.dpi, transparent=True)"
   ]
  },
  {
   "cell_type": "code",
   "execution_count": null,
   "metadata": {
    "collapsed": true
   },
   "outputs": [],
   "source": []
  },
  {
   "cell_type": "markdown",
   "metadata": {},
   "source": [
    "ATM: $f(0) = 0.5$\n",
    "\n",
    "OTM: $f(0) = -inf$\n",
    "\n",
    "ITM: $f(0) = 1$"
   ]
  },
  {
   "cell_type": "code",
   "execution_count": null,
   "metadata": {
    "collapsed": false,
    "scrolled": false
   },
   "outputs": [],
   "source": [
    "fig=plt.figure(figsize=(13, 5), dpi= 80, facecolor='w', edgecolor='k')\n",
    "\n",
    "sigma = 0.02\n",
    "plt.subplot(121)\n",
    "plt.plot(ttm, Delta_call(75, ttm))\n",
    "plt.plot(ttm, Delta_call(80, ttm))\n",
    "plt.plot(ttm, Delta_call(85, ttm))\n",
    "plt.title(u'Call опцион')\n",
    "plt.legend(['out of-the-money', 'at-the-money', 'in-the-money'])\n",
    "plt.axis([0, 10, 0, 1.])\n",
    "plt.xlabel('time-to-maturity, years')\n",
    "plt.ylabel('Delta')\n",
    "plt.grid(True)\n",
    "\n",
    "sigma = 0.2\n",
    "plt.subplot(122)\n",
    "plt.plot(ttm, Delta_call_div(75, ttm))\n",
    "plt.plot(ttm, Delta_call_div(80, ttm))\n",
    "plt.plot(ttm, Delta_call_div(85, ttm))\n",
    "plt.plot(ttm, np.e ** (- q * ttm))\n",
    "plt.title(u'Call опцион с дивидендами')\n",
    "plt.legend(['out of-the-money', 'at-the-money', 'in-the-money', '$e^{-q * T}$'])\n",
    "plt.axis([0, 70, 0, 1])\n",
    "plt.xlabel('time-to-maturity, years')\n",
    "plt.ylabel('Delta')\n",
    "plt.grid(True)\n",
    "\n",
    "plt.show()"
   ]
  },
  {
   "cell_type": "code",
   "execution_count": null,
   "metadata": {
    "collapsed": true
   },
   "outputs": [],
   "source": []
  },
  {
   "cell_type": "code",
   "execution_count": null,
   "metadata": {
    "collapsed": false
   },
   "outputs": [],
   "source": [
    "F(-0)"
   ]
  },
  {
   "cell_type": "markdown",
   "metadata": {},
   "source": [
    "# Gamma\n",
    "\n",
    "$gamma_{C_{E}} = \\frac{1}{S\\sigma\\sqrt{T-t}} delta_{C_{E}}'$"
   ]
  },
  {
   "cell_type": "code",
   "execution_count": null,
   "metadata": {
    "collapsed": false
   },
   "outputs": [],
   "source": [
    "def Gamma_call(S, T):\n",
    "    return f(d1(S, T)) / (S * sigma * np.sqrt(T))\n",
    "\n",
    "\n",
    "\n",
    "def Gamma_call_div(S, T):\n",
    "    return np.e**(- q * T) * f(d1_div(S, T)) / (S * sigma * np.sqrt(T))\n"
   ]
  },
  {
   "cell_type": "code",
   "execution_count": null,
   "metadata": {
    "collapsed": true
   },
   "outputs": [],
   "source": [
    "K = 80.\n",
    "r = 0.05\n",
    "q = 0.08\n",
    "sigma = 0.2"
   ]
  },
  {
   "cell_type": "code",
   "execution_count": null,
   "metadata": {
    "collapsed": false,
    "scrolled": false
   },
   "outputs": [],
   "source": [
    "fig=plt.figure(figsize=(13, 5), dpi= 80, facecolor='w', edgecolor='k')\n",
    "\n",
    "plt.subplot(121)\n",
    "plt.plot(S, Gamma_call(S, 0.8))\n",
    "plt.plot(S, Gamma_call(S, 0.5))\n",
    "plt.plot(S, Gamma_call(S, 0.2))\n",
    "plt.title(u'Call/Put опцион')\n",
    "plt.legend(['T-t=0.8y', 'T-t=0.5y', 'T-t=0.2y'])\n",
    "plt.xlabel('Spot')\n",
    "plt.ylabel('Gamma')\n",
    "plt.axis([50, 100, 0, 0.1])\n",
    "plt.grid(True)\n",
    "\n",
    "plt.subplot(122)\n",
    "plt.plot(S, Gamma_call_div(S, 0.8))\n",
    "plt.plot(S, Gamma_call_div(S, 0.5))\n",
    "plt.plot(S, Gamma_call_div(S, 0.2))\n",
    "plt.title(u'Call/Put опцион с дивидендами')\n",
    "plt.legend(['T-t=0.8y', 'T-t=0.5y', 'T-t=0.2y'])\n",
    "plt.xlabel('Spot')\n",
    "plt.ylabel('Gamma')\n",
    "plt.axis([50, 100, 0, 0.1])\n",
    "plt.grid(True)\n",
    "\n",
    "plt.show()\n",
    "fig.savefig('Gamma.png', dpi=fig.dpi, transparent=True)"
   ]
  },
  {
   "cell_type": "code",
   "execution_count": null,
   "metadata": {
    "collapsed": false,
    "scrolled": false
   },
   "outputs": [],
   "source": [
    "fig=plt.figure(figsize=(8, 8), dpi= 80, facecolor='w', edgecolor='k')\n",
    "\n",
    "plt.plot(S, Gamma_call(S, 0.8))\n",
    "plt.plot(S, Gamma_call_div(S, 0.8))\n",
    "plt.title('Call/Put')\n",
    "plt.legend(['$q=0, r=0.05$', '$q=0.08, r=0.05$'])\n",
    "plt.xlabel('Spot')\n",
    "plt.ylabel('Gamma')\n",
    "# plt.axvline(x=61.4, ls='--', color='green', label='$x=61.4$')\n",
    "plt.axis([40, 140, 0, 0.04])\n",
    "plt.grid(True)\n",
    "\n",
    "plt.show()"
   ]
  },
  {
   "cell_type": "code",
   "execution_count": null,
   "metadata": {
    "collapsed": false
   },
   "outputs": [],
   "source": [
    "f(d1(10, 0.8))"
   ]
  },
  {
   "cell_type": "code",
   "execution_count": null,
   "metadata": {
    "collapsed": false
   },
   "outputs": [],
   "source": [
    "Gamma_call(20, 0.8)"
   ]
  },
  {
   "cell_type": "code",
   "execution_count": null,
   "metadata": {
    "collapsed": false,
    "scrolled": false
   },
   "outputs": [],
   "source": [
    "fig=plt.figure(figsize=(13, 5), dpi= 80, facecolor='w', edgecolor='k')\n",
    "\n",
    "plt.subplot(121)\n",
    "plt.plot(ttm, Gamma_call(85, ttm))\n",
    "plt.plot(ttm, Gamma_call(75, ttm))\n",
    "plt.plot(ttm, Gamma_call(80, ttm))\n",
    "plt.legend(['in-the-money', 'out of-the-money', 'at-the-money'])\n",
    "plt.axis([0, 3, 0, 0.2])\n",
    "plt.title(u'Call/Put опцион')\n",
    "plt.xlabel('time-to-maturity, years')\n",
    "plt.ylabel('Gamma')\n",
    "plt.grid(True)\n",
    "\n",
    "plt.subplot(122)\n",
    "plt.plot(ttm, Gamma_call_div(85, ttm))\n",
    "plt.plot(ttm, Gamma_call_div(75, ttm))\n",
    "plt.plot(ttm, Gamma_call_div(80, ttm))\n",
    "plt.legend(['in-the-money', 'out of-the-money', 'at-the-money'])\n",
    "plt.axis([0, 3, 0, 0.2])\n",
    "plt.title(u'Call/Put опцион с дивидендами')\n",
    "plt.xlabel('time-to-maturity, years')\n",
    "plt.ylabel('Gamma')\n",
    "plt.grid(True)\n",
    "\n",
    "plt.show()\n",
    "fig.savefig('Gamma_ttm.png', dpi=fig.dpi, transparent=True)"
   ]
  },
  {
   "cell_type": "code",
   "execution_count": null,
   "metadata": {
    "collapsed": false
   },
   "outputs": [],
   "source": [
    "Gamma_call_div(80, 0.00001)"
   ]
  },
  {
   "cell_type": "markdown",
   "metadata": {},
   "source": [
    "# Vega\n",
    "\n",
    "$vega_{C_{E}} = delta_{C_{E}}' S\\sqrt{T-t}$"
   ]
  },
  {
   "cell_type": "code",
   "execution_count": null,
   "metadata": {
    "collapsed": true
   },
   "outputs": [],
   "source": [
    "def Vega_call(S, T):\n",
    "    return S * f(d1(S, T)) * np.sqrt(T)\n",
    "\n",
    "\n",
    "def Vega_call_div(S, T):\n",
    "    return S * np.e**( - q * T) * f(d1_div(S, T)) * np.sqrt(T)"
   ]
  },
  {
   "cell_type": "code",
   "execution_count": null,
   "metadata": {
    "collapsed": false,
    "scrolled": false
   },
   "outputs": [],
   "source": [
    "fig=plt.figure(figsize=(8, 8), dpi= 80, facecolor='w', edgecolor='k')\n",
    "\n",
    "# plt.subplot(121)\n",
    "plt.plot(S, Vega_call(S, 0.8))\n",
    "plt.plot(S, Vega_call(S, 0.5))\n",
    "plt.plot(S, Vega_call(S, 0.2))\n",
    "plt.title(u'Call/Put опцион')\n",
    "plt.legend(['T-t=0.8y', 'T-t=0.5y', 'T-t=0.2y'])\n",
    "plt.xlabel('Spot')\n",
    "plt.ylabel('Vega')\n",
    "plt.grid(True)\n",
    "\n",
    "# plt.subplot(122)\n",
    "# plt.plot(S, Vega_call_div(S, 0.8))\n",
    "# plt.plot(S, Vega_call_div(S, 0.5))\n",
    "# plt.plot(S, Vega_call_div(S, 0.2))\n",
    "# plt.title('Call/Put-option dividends')\n",
    "# plt.legend(['T-t=0.8y', 'T-t=0.5y', 'T-t=0.2y'])\n",
    "# plt.xlabel('Spot')\n",
    "# plt.ylabel('Vega')\n",
    "# plt.grid(True)\n",
    "\n",
    "plt.show()\n",
    "fig.savefig('Vega.png', dpi=fig.dpi)"
   ]
  },
  {
   "cell_type": "code",
   "execution_count": null,
   "metadata": {
    "collapsed": false,
    "scrolled": false
   },
   "outputs": [],
   "source": [
    "fig=plt.figure(figsize=(8, 8), dpi= 80, facecolor='w', edgecolor='k')\n",
    "\n",
    "# plt.subplot(121)\n",
    "plt.plot(S, Vega_call(S, 0.8))\n",
    "plt.plot(S, Vega_call_div(S, 0.8))\n",
    "plt.title(u'Call/Put опцион')\n",
    "plt.legend(['$r=0.05, q=0$', '$r=0.05, q=0.08$'])\n",
    "plt.xlabel('Spot')\n",
    "plt.ylabel('Vega')\n",
    "plt.grid(True)\n",
    "\n",
    "plt.show()\n",
    "fig.savefig('Vega_compar.png', dpi=fig.dpi, transparent=True)"
   ]
  },
  {
   "cell_type": "code",
   "execution_count": null,
   "metadata": {
    "collapsed": false
   },
   "outputs": [],
   "source": [
    "fig=plt.figure(figsize=(13, 5), dpi= 80, facecolor='w', edgecolor='k')\n",
    "\n",
    "plt.subplot(121)\n",
    "plt.plot(ttm, Vega_call(75, ttm))\n",
    "plt.plot(ttm, Vega_call(80, ttm))\n",
    "plt.plot(ttm, Vega_call(85, ttm))\n",
    "plt.title(u'Call/Put опцион')\n",
    "plt.legend(['out of-the-money', 'at-the-money', 'in-the-money'])\n",
    "plt.axis([0, 100, 0, 80])\n",
    "plt.xlabel('time-to-maturity')\n",
    "plt.ylabel('Vega')\n",
    "plt.grid(True)\n",
    "\n",
    "plt.subplot(122)\n",
    "plt.plot(ttm, Vega_call_div(75, ttm))\n",
    "plt.plot(ttm, Vega_call_div(80, ttm))\n",
    "plt.plot(ttm, Vega_call_div(85, ttm))\n",
    "plt.title(u'Call/Put опцион с дивидендами')\n",
    "plt.legend(['out of-the-money', 'at-the-money', 'in-the-money'])\n",
    "plt.axis([0, 100, 0, 80])\n",
    "plt.xlabel('time-to-maturity')\n",
    "plt.ylabel('Vega')\n",
    "plt.grid(True)\n",
    "\n",
    "plt.show()\n",
    "fig.savefig('Vega_ttm.png', dpi=fig.dpi)"
   ]
  },
  {
   "cell_type": "code",
   "execution_count": null,
   "metadata": {
    "collapsed": false,
    "scrolled": true
   },
   "outputs": [],
   "source": [
    "# GV = G1 / V1"
   ]
  },
  {
   "cell_type": "code",
   "execution_count": null,
   "metadata": {
    "collapsed": false
   },
   "outputs": [],
   "source": [
    "# plt.plot(V1, G1)\n",
    "# plt.xlabel('Spot')\n",
    "# plt.ylabel('Vega')\n",
    "# plt.grid(True)\n",
    "# plt.show()"
   ]
  },
  {
   "cell_type": "markdown",
   "metadata": {},
   "source": [
    "# Volatility"
   ]
  },
  {
   "cell_type": "code",
   "execution_count": null,
   "metadata": {
    "collapsed": true
   },
   "outputs": [],
   "source": [
    "S0 = 0.00001\n",
    "S1 = 200\n",
    "K = 80\n",
    "r = 0.05\n",
    "T = 0.8\n",
    "sigma = 0.2"
   ]
  },
  {
   "cell_type": "code",
   "execution_count": null,
   "metadata": {
    "collapsed": true
   },
   "outputs": [],
   "source": [
    "n = 500\n",
    "S = scipy.linspace(S0, S1, n)"
   ]
  },
  {
   "cell_type": "code",
   "execution_count": null,
   "metadata": {
    "collapsed": true
   },
   "outputs": [],
   "source": [
    "def d1_vol(S, sigma):\n",
    "    return (np.log(S / K) + (r + sigma ** 2 / 2) * T) / (sigma * np.sqrt(T)) \n",
    "\n",
    "\n",
    "def d1_vol_div(S, sigma):\n",
    "    return (np.log(S / K) + (r - q + sigma ** 2 / 2) * T) / (sigma * np.sqrt(T)) "
   ]
  },
  {
   "cell_type": "code",
   "execution_count": null,
   "metadata": {
    "collapsed": false
   },
   "outputs": [],
   "source": [
    "def Delta_call_vol(S, sigma):\n",
    "    return F(d1_vol(S, sigma))\n",
    "\n",
    "\n",
    "def Delta_call_vol_div(S, sigma):\n",
    "    return np.e**(- q * T) * F(d1_vol_div(S, sigma))"
   ]
  },
  {
   "cell_type": "code",
   "execution_count": null,
   "metadata": {
    "collapsed": false,
    "scrolled": false
   },
   "outputs": [],
   "source": [
    "fig=plt.figure(figsize=(8, 8), dpi= 80, facecolor='w', edgecolor='k')\n",
    "\n",
    "# plt.subplot(121)\n",
    "plt.plot(S, Delta_call_vol(S, 0.1))\n",
    "plt.plot(S, Delta_call_vol(S, 0.2))\n",
    "plt.plot(S, Delta_call_vol(S, 0.3))\n",
    "plt.title(u'Call опцион')\n",
    "plt.legend(['sigma=10%', 'sigma=20%', 'sigma=30%'])\n",
    "plt.xlabel('Spot')\n",
    "plt.ylabel('Delta')\n",
    "plt.grid(True)\n",
    "\n",
    "# plt.subplot(122)\n",
    "# plt.plot(S, Delta_call_vol_div(S, 0.1))\n",
    "# plt.plot(S, Delta_call_vol_div(S, 0.2))\n",
    "# plt.plot(S, Delta_call_vol_div(S, 0.3))\n",
    "# plt.title('Call-option dividends')\n",
    "# plt.legend(['sigma=10%', 'sigma=20%', 'sigma=30%'])\n",
    "# plt.xlabel('Spot')\n",
    "# plt.ylabel('Delta')\n",
    "# plt.grid(True)\n",
    "\n",
    "plt.show()\n",
    "\n",
    "fig.savefig('Delta_vol.png', dpi=fig.dpi, transparent=True)"
   ]
  },
  {
   "cell_type": "code",
   "execution_count": null,
   "metadata": {
    "collapsed": true
   },
   "outputs": [],
   "source": [
    "def Gamma_call_vol(S, sigma):\n",
    "    return f(d1_vol(S, sigma)) / (S * sigma * np.sqrt(T))"
   ]
  },
  {
   "cell_type": "code",
   "execution_count": null,
   "metadata": {
    "collapsed": false
   },
   "outputs": [],
   "source": [
    "fig=plt.figure(figsize=(6, 5), dpi= 80, facecolor='w', edgecolor='k')\n",
    "\n",
    "plt.plot(S, Gamma_call_vol(S, 0.1))\n",
    "plt.plot(S, Gamma_call_vol(S, 0.2))\n",
    "plt.plot(S, Gamma_call_vol(S, 0.3))\n",
    "plt.title('Call-option')\n",
    "plt.legend(['sigma=10%', 'sigma=20%', 'sigma=30%'])\n",
    "plt.xlabel('Spot')\n",
    "plt.ylabel('Gamma')\n",
    "plt.grid(True)\n",
    "plt.show()\n",
    "\n",
    "fig.savefig('Gamma_vol.png', dpi=fig.dpi, transparent=True)"
   ]
  },
  {
   "cell_type": "code",
   "execution_count": null,
   "metadata": {
    "collapsed": true
   },
   "outputs": [],
   "source": [
    "def Vega_call_vol(S, sigma):\n",
    "    return S * f(d1_vol(S, sigma)) * np.sqrt(T)"
   ]
  },
  {
   "cell_type": "code",
   "execution_count": null,
   "metadata": {
    "collapsed": false
   },
   "outputs": [],
   "source": [
    "fig=plt.figure(figsize=(6, 5), dpi= 80, facecolor='w', edgecolor='k')\n",
    "\n",
    "plt.plot(S, Vega_call_vol(S, 0.1))\n",
    "plt.plot(S, Vega_call_vol(S, 0.2))\n",
    "plt.plot(S, Vega_call_vol(S, 0.3))\n",
    "plt.legend(['sigma=10%', 'sigma=20%', 'sigma=30%'])\n",
    "plt.xlabel('Spot')\n",
    "plt.ylabel('Vega')\n",
    "plt.grid(True)\n",
    "plt.show()\n",
    "\n",
    "fig.savefig('Vega_vol.png', dpi=fig.dpi, transparent=True)"
   ]
  },
  {
   "cell_type": "markdown",
   "metadata": {},
   "source": [
    "# r = 0 (Надо прояснить)"
   ]
  },
  {
   "cell_type": "code",
   "execution_count": null,
   "metadata": {
    "collapsed": true
   },
   "outputs": [],
   "source": [
    "# S0 = 0.00001\n",
    "# S1 = 200\n",
    "# K = 80\n",
    "# r = 0.\n",
    "# T = 1.\n",
    "# sigma = 0.2"
   ]
  },
  {
   "cell_type": "code",
   "execution_count": null,
   "metadata": {
    "collapsed": true
   },
   "outputs": [],
   "source": [
    "# n = 500\n",
    "# S = scipy.linspace(S0, S1, n)"
   ]
  },
  {
   "cell_type": "code",
   "execution_count": null,
   "metadata": {
    "collapsed": true
   },
   "outputs": [],
   "source": [
    "\n",
    "\n",
    "# G1 = f(d1(S, 0.8)) / (S * sigma * np.sqrt(0.8))\n",
    "# G2 = f(d1(S, 0.5)) / (S * sigma * np.sqrt(0.5))\n",
    "# G3 = f(d1(S, 0.2)) / (S * sigma * np.sqrt(0.2))"
   ]
  },
  {
   "cell_type": "code",
   "execution_count": null,
   "metadata": {
    "collapsed": true
   },
   "outputs": [],
   "source": [
    "# plt.plot(S, G1)\n",
    "# plt.plot(S, G2)\n",
    "# plt.plot(S, G3)\n",
    "# plt.legend(['T-t=0.8y', 'T-t=0.5y', 'T-t=0.2y'])\n",
    "# plt.xlabel('Spot')\n",
    "# plt.ylabel('Gamma')\n",
    "# plt.grid(True)\n",
    "# plt.show()"
   ]
  },
  {
   "cell_type": "code",
   "execution_count": null,
   "metadata": {
    "collapsed": true
   },
   "outputs": [],
   "source": [
    "# V1 = S * f(d1(S, 0.8)) * np.sqrt(0.8)\n",
    "# V2 = S * f(d1(S, 0.5)) * np.sqrt(0.5)\n",
    "# V3 = S * f(d1(S, 0.2)) * np.sqrt(0.2)"
   ]
  },
  {
   "cell_type": "code",
   "execution_count": null,
   "metadata": {
    "collapsed": true
   },
   "outputs": [],
   "source": [
    "# plt.plot(S, V1)\n",
    "# plt.plot(S, V2)\n",
    "# plt.plot(S, V3)\n",
    "# plt.legend(['T-t=0.8y', 'T-t=0.5y', 'T-t=0.2y'])\n",
    "# plt.xlabel('Spot')\n",
    "# plt.ylabel('Vega')\n",
    "# plt.grid(True)\n",
    "# plt.show()"
   ]
  },
  {
   "cell_type": "markdown",
   "metadata": {},
   "source": [
    "#### Time value = market price - intrinsic value(Underlying - Strike)\n",
    "\n",
    "\n",
    "it depends on the implied volatility and stock price\n",
    "\n",
    "#### Time value = Premium - Intrinsic Value\n",
    "\n",
    "Time value decreases due to the time decay\n"
   ]
  },
  {
   "cell_type": "markdown",
   "metadata": {
    "collapsed": true
   },
   "source": [
    "# Theta\n",
    "\n",
    "### $theta_{C_{E}} = -\\frac{S\\sigma}{2\\sqrt{T-t}}N'(d_{+}) - rKe^{-r(T-t)}N(d_{-})$\n"
   ]
  },
  {
   "cell_type": "markdown",
   "metadata": {},
   "source": [
    "Theta показывает, как цена опциона меняется в цене при приближении к сроку экспирации при неизменной implied volatility\n",
    "\n",
    "Для long-позиций theta отрицательная, для short - положительная\n",
    "\n",
    "Когда мы находимся в позиции long, для получениея большей прибыли необходимо, чтобы росла цента актива, либо же увеличивалась волатильность. Однако все это должно произойти в ограниченный промежуток времени и чем меньше этот промежуток, тем меньше будет стоимость опциона, так как вероятность благоприятных исходов уменьшается.\n",
    "\n",
    "В позиции short theta положительная, можно продать опцион в момент T1 и в момент времени T2 купить его, чтобы закрыть сделку. Однако extrinsic value опциона будет в T2 уже меньше и на этом можно заработать."
   ]
  },
  {
   "cell_type": "code",
   "execution_count": null,
   "metadata": {
    "collapsed": false
   },
   "outputs": [],
   "source": [
    "S0 = 0.00001\n",
    "S1 = 200.\n",
    "K = 80.\n",
    "r = 0.05\n",
    "q = 0.06\n",
    "T = 1.\n",
    "sigma = 0.2\n",
    "n = 500\n",
    "S = scipy.linspace(S0, S1, n)\n",
    "ttm = scipy.linspace(0.01, 1, n)"
   ]
  },
  {
   "cell_type": "code",
   "execution_count": null,
   "metadata": {
    "collapsed": false
   },
   "outputs": [],
   "source": [
    "# Тета call опциона\n",
    "def Th_call(T, S):\n",
    "    return - S * sigma * f(d1(S, T)) / (2 * T ** 0.5) - r * K * np.e ** (- r * T) * F(d2(S, T))\n",
    "\n",
    "# def Th_call_div(T, S):\n",
    "#     return - S * sigma * f(d1_div(S, T)) / (2 * T ** 0.5) - (r - q) * K * np.e ** (- (r - q) * T) * F(d2_div(S, T))\n",
    "\n",
    "def Th_call_div(T, S):\n",
    "    return - (S * sigma * np.e**(-q * T) / (2 * T**0.5) * f(d1(S, T))) - r * K * np.e**(- r * T) * F(d2_div(S, T)) + q * S * np.e**( - q * T) * F(d1_div(S, T))"
   ]
  },
  {
   "cell_type": "code",
   "execution_count": null,
   "metadata": {
    "collapsed": true
   },
   "outputs": [],
   "source": [
    "# Тета форварда\n",
    "def Th_forv(T, S):\n",
    "    return  - K * r * np.e ** (- r * T)\n",
    "\n",
    "def Th_forv_div(T, S):\n",
    "    return S * q * np.e ** (- q * T) - K * r * np.e ** (- r * T)"
   ]
  },
  {
   "cell_type": "code",
   "execution_count": null,
   "metadata": {
    "collapsed": true
   },
   "outputs": [],
   "source": [
    "# Тета put опциона\n",
    "def Th_put(T, S):\n",
    "    return Th_call(T, S) - Th_forv(T, S)\n",
    "\n",
    "def Th_put_div(T, S):\n",
    "    return Th_call_div(T, S) - Th_forv_div(T, S)"
   ]
  },
  {
   "cell_type": "code",
   "execution_count": null,
   "metadata": {
    "collapsed": false,
    "scrolled": false
   },
   "outputs": [],
   "source": [
    "fig=plt.figure(figsize=(15, 17), dpi= 80, facecolor='w', edgecolor='k')\n",
    "\n",
    "plt.subplot(321)\n",
    "plt.plot(S, Th_call(0.8, S))\n",
    "plt.plot(S, Th_call(0.5, S))\n",
    "plt.plot(S, Th_call(0.2, S))\n",
    "plt.title(u'Call опцион')\n",
    "plt.legend(['T-t=0.8y', 'T-t=0.5y', 'T-t=0.2y'])\n",
    "plt.xlabel('Spot')\n",
    "plt.ylabel('Theta')\n",
    "plt.grid(True)\n",
    "# plt.show()\n",
    "\n",
    "plt.subplot(322)\n",
    "plt.plot(S, Th_put(0.8, S))\n",
    "plt.plot(S, Th_put(0.5, S))\n",
    "plt.plot(S, Th_put(0.2, S))\n",
    "plt.title(u'Put опцион')\n",
    "plt.legend(['T-t=0.8y', 'T-t=0.5y', 'T-t=0.2y'])\n",
    "plt.xlabel('Spot')\n",
    "plt.ylabel('Theta')\n",
    "plt.grid(True)\n",
    "\n",
    "plt.subplot(323)\n",
    "plt.plot(S, Th_call_div(0.8, S))\n",
    "plt.plot(S, Th_call_div(0.5, S))\n",
    "plt.plot(S, Th_call_div(0.2, S))\n",
    "plt.plot(S, Th_forv_div(0.8, S))\n",
    "plt.title(u'Call опцион с дивидендами, $r-q=-0.01$')\n",
    "plt.legend(['T-t=0.8y', 'T-t=0.5y', 'T-t=0.2y', '$V_k$'])\n",
    "plt.xlabel('Spot')\n",
    "plt.ylabel('Theta')\n",
    "plt.grid(True)\n",
    "# plt.show()\n",
    "\n",
    "plt.subplot(324)\n",
    "plt.plot(S, Th_put_div(0.8, S))\n",
    "plt.plot(S, Th_put_div(0.5, S))\n",
    "plt.plot(S, Th_put_div(0.2, S))\n",
    "plt.plot(S, - Th_forv_div(0.8, S))\n",
    "plt.title(u'Put опцион с дивидендами, $r-q=-0.01$')\n",
    "plt.legend(['T-t=0.8y', 'T-t=0.5y', 'T-t=0.2y', '$V_k$'])\n",
    "plt.xlabel('Spot')\n",
    "plt.ylabel('Theta')\n",
    "plt.grid(True)\n",
    "\n",
    "q = 0.04\n",
    "\n",
    "plt.subplot(325)\n",
    "plt.plot(S, Th_call_div(0.8, S))\n",
    "plt.plot(S, Th_call_div(0.5, S))\n",
    "plt.plot(S, Th_call_div(0.2, S))\n",
    "plt.plot(S, Th_forv_div(0.8, S))\n",
    "plt.title(u'Call опцион с дивидендами, $r-q=0.01$')\n",
    "plt.legend(['T-t=0.8y', 'T-t=0.5y', 'T-t=0.2y', '$V_k$'])\n",
    "plt.xlabel('Spot')\n",
    "plt.ylabel('Theta')\n",
    "plt.grid(True)\n",
    "# plt.show()\n",
    "\n",
    "plt.subplot(326)\n",
    "plt.plot(S, Th_put_div(0.8, S))\n",
    "plt.plot(S, Th_put_div(0.5, S))\n",
    "plt.plot(S, Th_put_div(0.2, S))\n",
    "plt.plot(S, - Th_forv_div(0.8, S))\n",
    "plt.title(u'Put опцион с дивидендами, $r-q=0.01$')\n",
    "plt.legend(['T-t=0.8y', 'T-t=0.5y', 'T-t=0.2y', '$V_k$'])\n",
    "plt.xlabel('Spot')\n",
    "plt.ylabel('Theta')\n",
    "plt.grid(True)\n",
    "\n",
    "fig.tight_layout()\n",
    "plt.show()\n",
    "fig.savefig('Theta.png', dpi=fig.dpi, transparent=True)"
   ]
  },
  {
   "cell_type": "markdown",
   "metadata": {},
   "source": [
    "На графике выше можно видеть, что theta минимальна в at-the-money, так как в таком случае цена опциона состоит целиком из time value, которое в свою очередь зависит от implied volatility и цены активы\n"
   ]
  },
  {
   "cell_type": "code",
   "execution_count": null,
   "metadata": {
    "collapsed": true
   },
   "outputs": [],
   "source": [
    "q = 0.06"
   ]
  },
  {
   "cell_type": "code",
   "execution_count": null,
   "metadata": {
    "collapsed": false,
    "scrolled": false
   },
   "outputs": [],
   "source": [
    "fig=plt.figure(figsize=(15, 10), dpi= 80, facecolor='w', edgecolor='k')\n",
    "\n",
    "plt.subplot(221)\n",
    "plt.plot(ttm, Th_call(ttm, 85))\n",
    "plt.plot(ttm, Th_call(ttm, 80))\n",
    "plt.plot(ttm, Th_call(ttm, 75))\n",
    "plt.title(u'Call опцион')\n",
    "plt.legend(['in-the-money', 'at-the-money', 'out of-the-money'])\n",
    "plt.xlabel('time-to-maturity, years')\n",
    "plt.ylabel('Theta')\n",
    "plt.grid(True)\n",
    "\n",
    "plt.subplot(222)\n",
    "plt.plot(ttm, Th_put(ttm, 85))\n",
    "plt.plot(ttm, Th_put(ttm, 80))\n",
    "plt.plot(ttm, Th_put(ttm, 75))\n",
    "plt.title(u'Put опцион')\n",
    "plt.legend(['in-the-money', 'at-the-money', 'out of-the-money'])\n",
    "plt.xlabel('time-to-maturity, years')\n",
    "plt.ylabel('Theta')\n",
    "plt.grid(True)\n",
    "\n",
    "plt.subplot(223)\n",
    "plt.plot(ttm, Th_call_div(ttm, 85))\n",
    "plt.plot(ttm, Th_call_div(ttm, 80))\n",
    "plt.plot(ttm, Th_call_div(ttm, 75))\n",
    "plt.title(u'Call опцион с дивидендами')\n",
    "plt.legend(['in-the-money', 'at-the-money', 'out of-the-money'])\n",
    "plt.xlabel('time-to-maturity, years')\n",
    "plt.ylabel('Theta')\n",
    "plt.grid(True)\n",
    "\n",
    "plt.subplot(224)\n",
    "plt.plot(ttm, Th_put_div(ttm, 85))\n",
    "plt.plot(ttm, Th_put_div(ttm, 80))\n",
    "plt.plot(ttm, Th_put_div(ttm, 75))\n",
    "plt.title(u'Put опцион с дивидендами')\n",
    "plt.legend(['in-the-money', 'at-the-money', 'out of-the-money'])\n",
    "plt.xlabel('time-to-maturity, years')\n",
    "plt.ylabel('Theta')\n",
    "plt.grid(True)\n",
    "\n",
    "fig.tight_layout()\n",
    "plt.show()\n",
    "fig.savefig('Theta_ttm.png', dpi=fig.dpi, transparent=True)"
   ]
  },
  {
   "cell_type": "markdown",
   "metadata": {},
   "source": [
    "На графике выше можно видеть, что at-the-money option будет терять деньги вплоть до последнего, так как всегда будет оставаться неопределенность с возможностью осуществления благоприятных условий на рынке.\n",
    "    В то же время эта неопределнность будет ниже для OTM и ITM опционов и при приближении к экспирации падение цены замедлится."
   ]
  },
  {
   "cell_type": "markdown",
   "metadata": {},
   "source": [
    "ATM: $f(0) = - inf$\n",
    "\n",
    "ITM: $f(0) = -4$\n",
    "\n",
    "OTM: $f(0) = 0$\n",
    "\n",
    "Forvard: $f(0) = -4$\n"
   ]
  },
  {
   "cell_type": "code",
   "execution_count": null,
   "metadata": {
    "collapsed": false
   },
   "outputs": [],
   "source": [
    "Th_call(0.00000001, 85) / 0.00000001\n",
    "\n",
    "prev = Th_call(0.1, 85)\n",
    "eps = 0.00000000001\n",
    "for i in np.arange(0.2, 100000, 0.1):\n",
    "    y = Th_call(i, 85) / i\n",
    "    if abs(y - prev) < eps:\n",
    "        break\n",
    "    prev = y    \n",
    "print y  \n",
    "print i"
   ]
  },
  {
   "cell_type": "code",
   "execution_count": null,
   "metadata": {
    "collapsed": false
   },
   "outputs": [],
   "source": [
    "Th_call(0.02, 85) / 0.02"
   ]
  },
  {
   "cell_type": "code",
   "execution_count": null,
   "metadata": {
    "collapsed": true
   },
   "outputs": [],
   "source": [
    "S = scipy.linspace(S0, S1, n)"
   ]
  },
  {
   "cell_type": "code",
   "execution_count": null,
   "metadata": {
    "collapsed": false
   },
   "outputs": [],
   "source": [
    "fig=plt.figure(figsize=(6, 5), dpi= 80, facecolor='w', edgecolor='k')\n",
    "\n",
    "sigma=0.1\n",
    "plt.plot(S, Th_call(0.8, S))\n",
    "sigma=0.2\n",
    "plt.plot(S, Th_call(0.8, S))\n",
    "sigma=0.3\n",
    "plt.plot(S, Th_call(0.8, S))\n",
    "plt.title(u'Call опцион')\n",
    "plt.legend(['sigma=10%', 'sigma=20%', 'sigma=30%'])\n",
    "plt.xlabel('Spot')\n",
    "plt.ylabel('Theta')\n",
    "plt.grid(True)\n",
    "plt.show()\n",
    "\n",
    "fig.savefig('Theta_vol.png', dpi=fig.dpi, transparent=True)"
   ]
  },
  {
   "cell_type": "code",
   "execution_count": null,
   "metadata": {
    "collapsed": true
   },
   "outputs": [],
   "source": [
    "sigma = 0.2"
   ]
  },
  {
   "cell_type": "markdown",
   "metadata": {},
   "source": [
    "# Rho\n",
    "\n",
    "### $rho_{C_{E}} = (T - t)Ke^{-r(T - t)}N(d_{-})$"
   ]
  },
  {
   "cell_type": "code",
   "execution_count": null,
   "metadata": {
    "collapsed": true
   },
   "outputs": [],
   "source": [
    "def Rho_call(T, S):\n",
    "    return T * K * np.e ** (- r * T) * F(d2(S, T))\n",
    "\n",
    "\n",
    "def Rho_call_div(T, S):\n",
    "    return T * K * np.e ** (- r * T) * F(d2_div(S, T))"
   ]
  },
  {
   "cell_type": "code",
   "execution_count": null,
   "metadata": {
    "collapsed": true
   },
   "outputs": [],
   "source": [
    "def Rho_put(T, S):\n",
    "    return Rho_call(T, S) - K * (T) * np.e**(- r * (T))\n",
    "\n",
    "\n",
    "def Rho_put_div(T, S):\n",
    "    return Rho_call_div(T, S) - K * (T) * np.e**(- r * (T))"
   ]
  },
  {
   "cell_type": "code",
   "execution_count": null,
   "metadata": {
    "collapsed": false,
    "scrolled": false
   },
   "outputs": [],
   "source": [
    "fig=plt.figure(figsize=(15, 10), dpi= 80, facecolor='w', edgecolor='k')\n",
    "\n",
    "plt.subplot(221)\n",
    "plt.plot(S, Rho_call(0.8, S))\n",
    "plt.plot(S, Rho_call(0.5, S))\n",
    "plt.plot(S, Rho_call(0.2, S))\n",
    "plt.title(u'Call опцион')\n",
    "plt.legend(['T-t=0.8y', 'T-t=0.5y', 'T-t=0.2y'])\n",
    "plt.xlabel('Spot')\n",
    "plt.ylabel('Rho')\n",
    "plt.grid(True)\n",
    "\n",
    "plt.subplot(222)\n",
    "plt.plot(S, Rho_put(0.8, S))\n",
    "plt.plot(S, Rho_put(0.5, S))\n",
    "plt.plot(S, Rho_put(0.2, S))\n",
    "plt.title(u'Put опцион')\n",
    "plt.legend(['T-t=0.8y', 'T-t=0.5y', 'T-t=0.2y'])\n",
    "plt.xlabel('Spot')\n",
    "plt.ylabel('Rho')\n",
    "plt.grid(True)\n",
    "\n",
    "plt.subplot(223)\n",
    "plt.plot(S, Rho_call_div(0.8, S))\n",
    "plt.plot(S, Rho_call_div(0.5, S))\n",
    "plt.plot(S, Rho_call_div(0.2, S))\n",
    "plt.title(u'Call опцион с дивидендами')\n",
    "plt.legend(['T-t=0.8y', 'T-t=0.5y', 'T-t=0.2y'])\n",
    "plt.xlabel('Spot')\n",
    "plt.ylabel('Rho')\n",
    "plt.grid(True)\n",
    "\n",
    "plt.subplot(224)\n",
    "plt.plot(S, Rho_put_div(0.8, S))\n",
    "plt.plot(S, Rho_put_div(0.5, S))\n",
    "plt.plot(S, Rho_put_div(0.2, S))\n",
    "plt.title(u'Put опцион с дивидендами')\n",
    "plt.legend(['T-t=0.8y', 'T-t=0.5y', 'T-t=0.2y'])\n",
    "plt.xlabel('Spot')\n",
    "plt.ylabel('Rho')\n",
    "plt.grid(True)\n",
    "\n",
    "fig.tight_layout()\n",
    "plt.show()\n",
    "fig.savefig('Rho.png', dpi=fig.dpi, transparent=True)"
   ]
  },
  {
   "cell_type": "markdown",
   "metadata": {},
   "source": [
    "Асимптота: $f(x) = K(T - t)e^{-r(T - t)}$"
   ]
  },
  {
   "cell_type": "code",
   "execution_count": null,
   "metadata": {
    "collapsed": true
   },
   "outputs": [],
   "source": [
    "def f1(T):\n",
    "    return K * T * np.e**(- r * T)"
   ]
  },
  {
   "cell_type": "code",
   "execution_count": null,
   "metadata": {
    "collapsed": false
   },
   "outputs": [],
   "source": [
    "print Rho_call(0.8, 300)\n",
    "print 0.8 * K * np.e**(- r * 0.8)"
   ]
  },
  {
   "cell_type": "code",
   "execution_count": null,
   "metadata": {
    "collapsed": false
   },
   "outputs": [],
   "source": [
    "fig=plt.figure(figsize=(15, 10), dpi= 80, facecolor='w', edgecolor='k')\n",
    "\n",
    "plt.subplot(221)\n",
    "plt.plot(ttm, Rho_call(ttm, 85))\n",
    "plt.plot(ttm, Rho_call(ttm, 80))\n",
    "plt.plot(ttm, Rho_call(ttm, 75))\n",
    "plt.title(u'Call опцион')\n",
    "plt.legend(['in-the-money', 'at-the-money', 'out of-the-money'])\n",
    "plt.xlabel('time-to-maturity, years')\n",
    "plt.ylabel('Rho')\n",
    "plt.grid(True)\n",
    "\n",
    "plt.subplot(222)\n",
    "plt.plot(ttm, Rho_put(ttm, 85))\n",
    "plt.plot(ttm, Rho_put(ttm, 80))\n",
    "plt.plot(ttm, Rho_put(ttm, 75))\n",
    "plt.title(u'Call опцион')\n",
    "plt.legend(['in-the-money', 'at-the-money', 'out of-the-money'])\n",
    "plt.xlabel('time-to-maturity, years')\n",
    "plt.ylabel('Rho')\n",
    "plt.grid(True)\n",
    "\n",
    "plt.subplot(223)\n",
    "plt.plot(ttm, Rho_call_div(ttm, 85))\n",
    "plt.plot(ttm, Rho_call_div(ttm, 80))\n",
    "plt.plot(ttm, Rho_call_div(ttm, 75))\n",
    "plt.title(u'Call опцион с дивидендами')\n",
    "plt.legend(['in-the-money', 'at-the-money', 'out of-the-money'])\n",
    "plt.xlabel('time-to-maturity, years')\n",
    "plt.ylabel('Rho')\n",
    "plt.grid(True)\n",
    "\n",
    "plt.subplot(224)\n",
    "plt.plot(ttm, Rho_put_div(ttm, 85))\n",
    "plt.plot(ttm, Rho_put_div(ttm, 80))\n",
    "plt.plot(ttm, Rho_put_div(ttm, 75))\n",
    "plt.title(u'Put опцион с дивидендами')\n",
    "plt.legend(['in-the-money', 'at-the-money', 'out of-the-money'])\n",
    "plt.xlabel('time-to-maturity, years')\n",
    "plt.ylabel('Rho')\n",
    "plt.grid(True)\n",
    "\n",
    "fig.tight_layout()\n",
    "plt.show()\n",
    "fig.savefig('Rho_ttm.png', dpi=fig.dpi, transparent=True)"
   ]
  },
  {
   "cell_type": "code",
   "execution_count": null,
   "metadata": {
    "collapsed": false
   },
   "outputs": [],
   "source": [
    "fig=plt.figure(figsize=(6, 5), dpi= 80, facecolor='w', edgecolor='k')\n",
    "\n",
    "sigma=0.1\n",
    "plt.plot(S, Rho_call(0.8, S))\n",
    "sigma=0.2\n",
    "plt.plot(S, Rho_call(0.8, S))\n",
    "sigma=0.3\n",
    "plt.plot(S, Rho_call(0.8, S))\n",
    "plt.title(u'Call опцион')\n",
    "plt.legend(['sigma=10%', 'sigma=20%', 'sigma=30%'])\n",
    "plt.xlabel('Spot')\n",
    "plt.ylabel('Rho')\n",
    "plt.grid(True)\n",
    "plt.show()\n",
    "\n",
    "fig.savefig('Rho_vol.png', dpi=fig.dpi, transparent=True)"
   ]
  },
  {
   "cell_type": "code",
   "execution_count": null,
   "metadata": {
    "collapsed": false
   },
   "outputs": [],
   "source": [
    "[1, 1] ** 2"
   ]
  }
 ],
 "metadata": {
  "kernelspec": {
   "display_name": "Python 2",
   "language": "python",
   "name": "python2"
  },
  "language_info": {
   "codemirror_mode": {
    "name": "ipython",
    "version": 2
   },
   "file_extension": ".py",
   "mimetype": "text/x-python",
   "name": "python",
   "nbconvert_exporter": "python",
   "pygments_lexer": "ipython2",
   "version": "2.7.13"
  }
 },
 "nbformat": 4,
 "nbformat_minor": 2
}
